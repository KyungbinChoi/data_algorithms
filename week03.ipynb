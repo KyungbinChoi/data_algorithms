{
 "cells": [
  {
   "cell_type": "markdown",
   "metadata": {},
   "source": [
    "# 7. 배열\n",
    "* 자료 구조는 크게 메모리 공간 기반의 연속 방식과 포인터 기반의 연결 방식으로 나뉜다.\n",
    "* 배열은 그 중 연속 방식의 가장 기본이 되는 자료형 이다.\n",
    "* 추상 자료형의 실제 구현 대부분은 배열 또는 연결 리스트를 기반으로 한다.\n",
    "    * 스택 : 연결 리스트 / 큐 : 배열\n",
    "* 배열은 어느 위치에서나 O(1) 에 조회가 가능하다. \n",
    "* 파이썬의 배열은 동적 배열 자료형이다. 미리 크기를 지정하지 않고 자동으로 조정할 수 있는 것이다."
   ]
  },
  {
   "cell_type": "markdown",
   "metadata": {},
   "source": [
    "## 두 수의 합\n",
    "* 덧셈하여 타겟을 만들 수 있는 두 숫자 인덱스를 리턴하라\n",
    "* 입력\n",
    "    - nums = [2,7,11,15]\n",
    "    - target = 9 \n",
    "* 출력\n",
    "    - [0,1]"
   ]
  },
  {
   "cell_type": "code",
   "execution_count": 1,
   "metadata": {},
   "outputs": [],
   "source": [
    "from typing import List"
   ]
  },
  {
   "cell_type": "code",
   "execution_count": 2,
   "metadata": {},
   "outputs": [
    {
     "name": "stdout",
     "output_type": "stream",
     "text": [
      "[0, 1]\n",
      "[0, 1]\n"
     ]
    }
   ],
   "source": [
    "# my answer\n",
    "def get_two_sum_target(nums:List, target:int) -> List:\n",
    "    target_index = []\n",
    "    for i in range(len(nums)-1):\n",
    "        if nums[i] + nums[i+1] == target:\n",
    "            target_index.append(i)\n",
    "            target_index.append(i+1)\n",
    "            break\n",
    "    return target_index\n",
    "\n",
    "nums = [2,7,11,15]\n",
    "target = 9\n",
    "\n",
    "print(get_two_sum_target(nums, target))\n",
    "\n",
    "# my answer 2\n",
    "from itertools import combinations\n",
    "def get_two_sum_target(nums:List, target:int) -> List:\n",
    "    target_index = []\n",
    "    \n",
    "    all_combinations = list(combinations(nums, 2))\n",
    "    all_sums = [sum(c) for c in all_combinations]\n",
    "\n",
    "    idx_combi = all_sums.index(target)\n",
    "    target_combi = all_combinations[idx_combi]\n",
    "\n",
    "    for num in target_combi:\n",
    "        target_index.append(nums.index(num))\n",
    "\n",
    "    return target_index\n",
    "\n",
    "print(get_two_sum_target(nums, target))"
   ]
  },
  {
   "cell_type": "markdown",
   "metadata": {},
   "source": [
    "[풀이]\n",
    "* 문제 난이도 자체는 쉬우나 최적화할 수 있는 방법이 여러가지가 있음\n",
    "* 첫번째 방법 - bruth force\n",
    "    * 아래와 같이 반복문을 구성해 모두 확인한다."
   ]
  },
  {
   "cell_type": "code",
   "execution_count": 3,
   "metadata": {},
   "outputs": [
    {
     "name": "stdout",
     "output_type": "stream",
     "text": [
      "[0, 1]\n"
     ]
    }
   ],
   "source": [
    "def twosum(nums:List[int], target:int) -> List[int]:\n",
    "    for i in range(len(nums)):\n",
    "        for j in range(i+1 , len(nums)): # 이렇게 할 경우 마지막 index 조합은 빈 리스트 이므로 마지막 1개의 숫자는 참조하지 않음\n",
    "            if nums[i] + nums[j] == target:\n",
    "                return [i,j]\n",
    "\n",
    "nums = [2,7,11,15]\n",
    "target = 9\n",
    "\n",
    "print(twosum(nums, target))"
   ]
  },
  {
   "cell_type": "markdown",
   "metadata": {},
   "source": [
    "* 단 위 방법은 최적화가 필요하다.\n",
    "* 두번째 방법 - in 을 이용한 탐색\n",
    "    * 타겟값에서 첫 번째 값을 뺀 값이 존재하는지 탐색하는 문제로 변경한다.\n",
    "* 이 경우에 in의 시간 복잡도는 O(n) 이고 bruth force 가 O(n**2) 이므로 훨씬 가볍고 빠르다."
   ]
  },
  {
   "cell_type": "code",
   "execution_count": 4,
   "metadata": {},
   "outputs": [
    {
     "name": "stdout",
     "output_type": "stream",
     "text": [
      "(0, 1)\n"
     ]
    }
   ],
   "source": [
    "def twosum(nums:List[int], target:int) -> List[int]:\n",
    "    for i, n in enumerate(nums):\n",
    "        complement = target - n\n",
    "        if complement in nums[i+1:]:\n",
    "            return nums.index(n), nums[i+1:].index(complement) + (i+1)\n",
    "\n",
    "print(twosum(nums, target))"
   ]
  },
  {
   "cell_type": "markdown",
   "metadata": {},
   "source": [
    "* 세번쨰 방법 - 첫 번째 수를 뺸 결과 키 조회\n",
    "    * 비교나 탐색 대신에 한번에 정답을 찾기 위해 target 값에서 뺸 값의 수를 키로 하고 기존의 인덱스는 값으로 바꿔서 딕셔너리로 저장해두면, 나중에 두 번째 수를 키로 조회해 정답을 즉시 찾을 수 있다."
   ]
  },
  {
   "cell_type": "code",
   "execution_count": 5,
   "metadata": {},
   "outputs": [
    {
     "name": "stdout",
     "output_type": "stream",
     "text": [
      "(0, 1)\n"
     ]
    }
   ],
   "source": [
    "def twosum(nums:List[int], target:int) -> List[int]:\n",
    "    nums_map = {}\n",
    "    # 키와 값을 바꿔서 딕셔너리로 저장\n",
    "    for i, num in enumerate(nums):\n",
    "        nums_map[num] = i\n",
    "    \n",
    "    # 타겟에서 첫 번째 수를 뺀 값을 키로 조회\n",
    "    for i, num in enumerate(nums):\n",
    "        if target - num in nums_map and i != nums_map[target - num]:\n",
    "            return nums.index(num), nums_map[target - num]\n",
    "print(twosum(nums, target))"
   ]
  },
  {
   "cell_type": "markdown",
   "metadata": {},
   "source": [
    "* 위 방식에서 딕셔너리 저장과 조회를 2개의 for 문으로 각각 처리 했는데 이를 개선해서 하나의 for 문 안에서 처리하면 아래와 같다.\n",
    "* 이 경우에는 전체를 모두 저장할 필요 없이 정답을 찾게 되면 함수를 바로 빠져나온다."
   ]
  },
  {
   "cell_type": "code",
   "execution_count": 6,
   "metadata": {},
   "outputs": [
    {
     "name": "stdout",
     "output_type": "stream",
     "text": [
      "[0, 1]\n"
     ]
    }
   ],
   "source": [
    "def twosum(nums:List[int], target:int) -> List[int]:\n",
    "    nums_map = {}\n",
    "    # for 문 통합\n",
    "    for i, num in enumerate(nums):\n",
    "        if target - num in nums_map:\n",
    "            return [nums_map[target - num], i]\n",
    "        nums_map[num] = i\n",
    "print(twosum(nums, target))"
   ]
  },
  {
   "cell_type": "markdown",
   "metadata": {},
   "source": [
    "* 투 포인터란 왼쪽 포인터와 오른쪽 포인터 합이 타겟보다 크다면 오른쪽 포인터를 왼쪽으로, 작다면 왼쪽 포인터를 오른쪽으로 옮기면서 값을 조정하는 방식이다.\n",
    "* 만약 타겟 값이 9 인 경우에 양쪽 포인터 합이 처음에는 각각 2와 15에 위치해 17이 되기 때문에 오른쪽 포인터를 하나씩 왼쪽으로 이동하는 절차로 답을 찾는 것이라 보면 된다.\n",
    "* 사실 이 문제는 투포인터로 풀 수 없다. 왜냐면 입력값인 nums는 정렬된 상태가 아닌데, 만약 코드 상에서 정렬할 경우에 인덱스는 모두 엉망이 되기 때문에 심각한 문제가 발생한다."
   ]
  },
  {
   "cell_type": "markdown",
   "metadata": {},
   "source": [
    "## 빗물 트래핑\n",
    "* 입력으로 높이를 받아서 비 온후 얼마나 많은 물이 쌓일 수 있는지 계산하는 문제\n",
    "* 입력\n",
    "    * [0,1,0,2,1,0,1,3,2,1,2,1]\n",
    "* 출력\n",
    "    * 6"
   ]
  },
  {
   "cell_type": "markdown",
   "metadata": {},
   "source": [
    "* 첫번째 방법 - 투 포인터를 최대로 이동\n",
    "    * 가장 높은 막대를 찾고 최대 높이의 막대까지 각각 좌우 기둥 최대 높이 left_max, right_max 가 현재 높이와의 차이만큼 물 높이 volume을 더해가는 방식이다.\n",
    "    * 이 경우 적어도 낮은 쪽은 그만큼 항상 채워질 것이기 때문에, 좌우 어느쪽이든 낮은 쪽은 높은 쪽을 향해서 포인터가 점점 가운데로 향한다.\n",
    "    * 이렇게 하면 가장 높이가 높은 막대, 즉 최대 지점에서 좌우 포인터가 만나게 되면서 O(n) 에 풀이가 가능해진다.\n",
    "    "
   ]
  },
  {
   "cell_type": "code",
   "execution_count": 7,
   "metadata": {},
   "outputs": [
    {
     "name": "stdout",
     "output_type": "stream",
     "text": [
      "6\n"
     ]
    }
   ],
   "source": [
    "def trap(height: List[int]) -> int:\n",
    "    if not height:\n",
    "        return 0\n",
    "    \n",
    "    volume = 0\n",
    "    left, right = 0, len(height) -1\n",
    "    left_max, right_max = height[left], height[right] # 초깃값 설정\n",
    "\n",
    "    while left < right :\n",
    "        left_max , right_max = max(height[left], left_max) , max(height[right], right_max)\n",
    "        \n",
    "        # 더 높은 쪽을 향해 투 포인터 이동\n",
    "        if left_max <= right_max:\n",
    "            volume += left_max - height[left]\n",
    "            left += 1\n",
    "        else:\n",
    "            volume += right_max - height[right]\n",
    "            right -= 1\n",
    "    return volume\n",
    "\n",
    "height = [0,1,0,2,1,0,1,3,2,1,2,1]\n",
    "print(trap(height))"
   ]
  },
  {
   "cell_type": "markdown",
   "metadata": {},
   "source": [
    "* 두번째 방법 - 스택 쌓기\n",
    "    * 스택을 쌓아 나가면서 현재 높이가 이전 높이보다 높을 때, 즉 꺾이는 변곡점을 기준으로 격차만큼 물 높이 volume 을 채운다.\n",
    "    * 이전 높이는 고정된 형태가 아니라 들쑥날쑥하기 때문에, 계속 스택으로 채워 나가다가 변곡점을 만날 때 마다 스택에서 하나씩 꺼내면서 이전과의 차이만큼 물 높이를 채워 나간다."
   ]
  },
  {
   "cell_type": "code",
   "execution_count": 11,
   "metadata": {},
   "outputs": [
    {
     "name": "stdout",
     "output_type": "stream",
     "text": [
      "6\n"
     ]
    }
   ],
   "source": [
    "def trap(height: List[int]) -> int:\n",
    "    stack = []\n",
    "    volume = 0\n",
    "\n",
    "    for i in range(len(height)):\n",
    "        # 변곡점을 만나는 경우\n",
    "        while stack and height[i] > height[stack[-1]]:\n",
    "            # 스택에서 꺼냄\n",
    "            top = stack.pop()\n",
    "\n",
    "            if not len(stack):\n",
    "                break\n",
    "\n",
    "            # 이전과의 차이만큼 물높이 계산\n",
    "            distance = i - stack[-1] -1\n",
    "            waters = min(height[i], height[stack[-1]]) - height[top]\n",
    "\n",
    "            volume += distance * waters\n",
    "        stack.append(i)\n",
    "    return volume\n",
    "\n",
    "height = [0,1,0,2,1,0,1,3,2,1,2,1]\n",
    "print(trap(height))"
   ]
  },
  {
   "cell_type": "markdown",
   "metadata": {},
   "source": [
    "* 위 문제는 난이도가 있는 문제이므로 고민이 많이 필요하다. 투 포인터나 스택 중 하나의 개념을 선택해 잘 설명하면서 구현하는 것이 필요하다."
   ]
  },
  {
   "cell_type": "markdown",
   "metadata": {},
   "source": []
  }
 ],
 "metadata": {
  "kernelspec": {
   "display_name": "bq_python",
   "language": "python",
   "name": "bq_python"
  },
  "language_info": {
   "codemirror_mode": {
    "name": "ipython",
    "version": 3
   },
   "file_extension": ".py",
   "mimetype": "text/x-python",
   "name": "python",
   "nbconvert_exporter": "python",
   "pygments_lexer": "ipython3",
   "version": "3.11.13"
  }
 },
 "nbformat": 4,
 "nbformat_minor": 2
}
