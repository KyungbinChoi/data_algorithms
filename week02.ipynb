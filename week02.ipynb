{
 "cells": [
  {
   "cell_type": "markdown",
   "metadata": {},
   "source": [
    "## 1.리스트\n",
    "* 파이썬 리스트는 순서대로 저장하는 시퀀스이자 변경 가능한 목록을 말한다.\n",
    "* 입력 순서가 유지되며, 내부적으로 동적 배열로 구현되어 있다.\n",
    "* 파이썬 리스트의 가장 좋은 점은 매우 다양한 기능을 제공한다는 점이다.\n",
    "    * 이 기능 중 O(1) 에 해당하는 기능 .append() , .pop() 이있다.\n",
    "* 반면 요소를 삭제하거나 큐의 연산이기도 한 첫 번째 요소를 추출하는 .pop(0) 는 O(n) 이므로 큐의 연산을 사용할 때는 주의가 필요하다. 이 때는 데크 같은 자료형으로 성능을 높일 수 있다.\n",
    "* 리스트의 경우 탐색 시 값의 존재 유무를 확인하려면 정렬된 경우에는 이진 검색이 효울적이다. 그러나 매번 정렬이 필요하고 대개는 리스트가 정렬된 상태가 이니므로 리스트의 경우에는 모든 엘리먼트를 순차적으로 조회하는 형태로 구현되어 있다. (이 경우 최악은 항상 O(n) 이 소요된다.)"
   ]
  },
  {
   "cell_type": "markdown",
   "metadata": {},
   "source": [
    "## 2. 딕셔너리\n",
    "* 파이썬 딕셔너리는 키/값 구조로 이루어져 있다.\n",
    "* 3.7+ 부터 입력 순서가 유지되며 내부적으로 해시 테이블로 구현되어 있다.\n",
    "* 인덱스를 숫자로만 지정할 수 있는 리스트와 다르게 딕셔너리는 해시할 수만 있다면 숫자뿐만 아니라, 문자 집합까지 불변 객체를 모두 키로 사용할 수 있다. \n",
    "    * 이 과정을 해싱이라고 하며, 해시 테이블을 이용해 자료를 저장한다.\n",
    "* 딕셔러니는 대부분의 연산이 O(1) 에 처리 가능한 매우 우수한 자료형이다.\n",
    "* 파이썬 딕셔너리를 효율적으로 생성하기 위한 추가 모듈이 많이 있다."
   ]
  },
  {
   "cell_type": "markdown",
   "metadata": {},
   "source": [
    "## 딕셔너리 활용과 모듈\n",
    "* 딕셔너리와 관련된 특수한 형태의 컨테이너 자료형인 defaultdict, Counter, OrderedDict 에 대해 살펴보면 아래와 같다.\n",
    "### defaultdict 객체\n",
    "* defaultdict 객체는 존재하지 않는 키를 조회할 경우, 에러 메시지를 출력하는 대신 디폴트 값을 기준으로 해당 키에 대한 딕셔너리 아이템을 생성해준다.\n",
    "* 아래 예시처럼 존재하지 않는 키에 대해 바로 연산이 가능하고 이 int 로 할 경우에 디폴트인 0을 기준으로 자동 생성후에 연산이 되는 것을 볼 수 있다."
   ]
  },
  {
   "cell_type": "code",
   "execution_count": 1,
   "metadata": {},
   "outputs": [],
   "source": [
    "from collections import defaultdict, Counter, OrderedDict"
   ]
  },
  {
   "cell_type": "code",
   "execution_count": 2,
   "metadata": {},
   "outputs": [
    {
     "data": {
      "text/plain": [
       "defaultdict(int, {'A': 5, 'B': 4})"
      ]
     },
     "execution_count": 2,
     "metadata": {},
     "output_type": "execute_result"
    }
   ],
   "source": [
    "a =defaultdict(int)\n",
    "a['A']= 5\n",
    "a['B']= 4\n",
    "a"
   ]
  },
  {
   "cell_type": "code",
   "execution_count": 3,
   "metadata": {},
   "outputs": [
    {
     "data": {
      "text/plain": [
       "defaultdict(int, {'A': 5, 'B': 4, 'C': 1})"
      ]
     },
     "execution_count": 3,
     "metadata": {},
     "output_type": "execute_result"
    }
   ],
   "source": [
    "a['C']+=1\n",
    "a"
   ]
  },
  {
   "cell_type": "markdown",
   "metadata": {},
   "source": [
    "### Counter 객체\n",
    "* Counter 객체는 아이템에 대한 개수를 계산해 딕셔너리로 반환한다."
   ]
  },
  {
   "cell_type": "code",
   "execution_count": 4,
   "metadata": {},
   "outputs": [
    {
     "data": {
      "text/plain": [
       "Counter({1: 4, 2: 4, 3: 2, 4: 2, 5: 1, 6: 1, 7: 1})"
      ]
     },
     "execution_count": 4,
     "metadata": {},
     "output_type": "execute_result"
    }
   ],
   "source": [
    "a = [1,1,1,1,2,2,2,2,3,3,4,4,5,6,7]\n",
    "b = Counter(a)\n",
    "b"
   ]
  },
  {
   "cell_type": "code",
   "execution_count": 5,
   "metadata": {},
   "outputs": [
    {
     "data": {
      "text/plain": [
       "collections.Counter"
      ]
     },
     "execution_count": 5,
     "metadata": {},
     "output_type": "execute_result"
    }
   ],
   "source": [
    "type(b)"
   ]
  },
  {
   "cell_type": "markdown",
   "metadata": {},
   "source": [
    "* most_common() 과같은 매서드로 가장 빈도수가 높은 요소를 추출할 수 있다.\n",
    "    * 그 밖에도 값의 합산을 구하는 .total() , 특정 키를 기준으로 빼기 연산을 하는 .subtract() 매서드가 있다."
   ]
  },
  {
   "cell_type": "code",
   "execution_count": 8,
   "metadata": {},
   "outputs": [
    {
     "data": {
      "text/plain": [
       "[(1, 4)]"
      ]
     },
     "execution_count": 8,
     "metadata": {},
     "output_type": "execute_result"
    }
   ],
   "source": [
    "b.most_common(1)"
   ]
  },
  {
   "cell_type": "markdown",
   "metadata": {},
   "source": [
    "### OrderdDcit 객체\n",
    "* 파이썬 3.6 이하에서는 입력 순서가 유지되는 OrderedDict 라는 별도의 객체를 제공했다.\n",
    "* 그 이후 버전부터는 딕셔너리 내부적으로 인덱스를 이용해 입력순서가 유지되도록 개선되었다."
   ]
  },
  {
   "cell_type": "markdown",
   "metadata": {},
   "source": [
    "----\n",
    "# 문자열 조작\n",
    "## 1. 유효한 팰린드롬\n",
    "* 주어진 문자열이 팰린드롬인지 확인하라. 대소문자를 구분하지 않으며 영문자와 숫자만을 대상으로 한다.\n",
    "    * 팰린드롬은 앞뒤가 똑같은 단어나 문장으로 뒤집어도 같은 말이 되는 단어 또는 문장을 의미한다."
   ]
  },
  {
   "cell_type": "code",
   "execution_count": 23,
   "metadata": {},
   "outputs": [],
   "source": [
    "# my answer\n",
    "import re\n",
    "def is_palindrome(s):\n",
    "    pat = re.compile('\\w')\n",
    "    s_pat = \"\".join(pat.findall(s))\n",
    "    if s_pat.lower() == s_pat.lower()[::-1]:\n",
    "        return True\n",
    "    else:\n",
    "        return False"
   ]
  },
  {
   "cell_type": "code",
   "execution_count": 24,
   "metadata": {},
   "outputs": [],
   "source": [
    "s1 = \"A man, a plan, a canal: Panama\"\n",
    "s2 = \"race a car\""
   ]
  },
  {
   "cell_type": "code",
   "execution_count": 26,
   "metadata": {},
   "outputs": [
    {
     "name": "stdout",
     "output_type": "stream",
     "text": [
      "True\n",
      "False\n"
     ]
    }
   ],
   "source": [
    "print(is_palindrome(s1))\n",
    "print(is_palindrome(s2))"
   ]
  },
  {
   "cell_type": "markdown",
   "metadata": {},
   "source": [
    "### 풀이-1\n",
    "* 대소문자 여부를 구분하지 않고 영문자, 숫자만을 대상으로 한다는 제약 조건의 처리는 아래와 같이 구현한다.\n",
    "* 그 이후에 pop 함수를 통해 인덱스를 지정해 맨앞의 값과 맨 뒤에 값을 가져오는 반복으로 팰린드롬을 판별한다.\n"
   ]
  },
  {
   "cell_type": "code",
   "execution_count": 27,
   "metadata": {},
   "outputs": [
    {
     "data": {
      "text/plain": [
       "['a',\n",
       " 'm',\n",
       " 'a',\n",
       " 'n',\n",
       " 'a',\n",
       " 'p',\n",
       " 'l',\n",
       " 'a',\n",
       " 'n',\n",
       " 'a',\n",
       " 'c',\n",
       " 'a',\n",
       " 'n',\n",
       " 'a',\n",
       " 'l',\n",
       " 'p',\n",
       " 'a',\n",
       " 'n',\n",
       " 'a',\n",
       " 'm',\n",
       " 'a']"
      ]
     },
     "execution_count": 27,
     "metadata": {},
     "output_type": "execute_result"
    }
   ],
   "source": [
    "strs = []\n",
    "for char in s1:\n",
    "    if char.isalnum():\n",
    "        strs.append(char.lower())\n",
    "strs"
   ]
  },
  {
   "cell_type": "code",
   "execution_count": 29,
   "metadata": {},
   "outputs": [],
   "source": [
    "while len(strs) > 1:\n",
    "    if strs.pop(0) != strs.pop():\n",
    "        print(False)\n",
    "        # return False"
   ]
  },
  {
   "cell_type": "markdown",
   "metadata": {},
   "source": [
    "* 전체 코드를 정리하면 아래와 같다."
   ]
  },
  {
   "cell_type": "code",
   "execution_count": 30,
   "metadata": {},
   "outputs": [],
   "source": [
    "def is_palindrome(self, s:str) -> bool:    \n",
    "    strs = []\n",
    "    for char in s:\n",
    "        if char.isalnum():\n",
    "            strs.append(char.lower())\n",
    "    while len(strs) > 1:\n",
    "        if strs.pop(0) != strs.pop():\n",
    "            print(False)\n",
    "    return True"
   ]
  },
  {
   "cell_type": "code",
   "execution_count": 33,
   "metadata": {},
   "outputs": [
    {
     "data": {
      "text/plain": [
       "True"
      ]
     },
     "execution_count": 33,
     "metadata": {},
     "output_type": "execute_result"
    }
   ],
   "source": [
    "is_palindrome(None, s= s1)"
   ]
  },
  {
   "cell_type": "markdown",
   "metadata": {},
   "source": [
    "* 만약 데크Deque 를 명시적으로 선언하면 좀 더 속도를 높일 수 있다.\n",
    "* strs: Deque = collections.deque() 와 같이 자료형을 데크로 선언하는 것만으로 기존 방식 대비 5배 가까이 더 속도를 높일 수 있다.\n",
    "    * 리스트 구현은 $O(n^2)$, 데크 구현은 O(n) dmfh tjdsmd ckdlrk zmek."
   ]
  },
  {
   "cell_type": "code",
   "execution_count": 37,
   "metadata": {},
   "outputs": [],
   "source": [
    "import collections\n",
    "\n",
    "def is_palindrome(self, s:str) -> bool:\n",
    "    strs: Deque = collections.deque()\n",
    "\n",
    "    for char in s:\n",
    "        if char.isalnum():\n",
    "            strs.append(char.lower())\n",
    "\n",
    "    while len(strs) > 1:\n",
    "        if strs.popleft() != strs.pop():\n",
    "            return False\n",
    "    return True"
   ]
  },
  {
   "cell_type": "code",
   "execution_count": 38,
   "metadata": {},
   "outputs": [
    {
     "data": {
      "text/plain": [
       "True"
      ]
     },
     "execution_count": 38,
     "metadata": {},
     "output_type": "execute_result"
    }
   ],
   "source": [
    "is_palindrome(None, s1)"
   ]
  },
  {
   "cell_type": "markdown",
   "metadata": {},
   "source": [
    "* 슬라이싱을 사용해 문제 풀이를 할 수 있다.\n",
    "    * 문자열 전체를 정규식으로 처리해 문자 및 숫자만 포함시킬 수 있다.\n",
    "    * 리스트ㅡ이 경우 [::-1] 을 이용해 뒤집을 수 ㅣㅇㅆ다. 이는 내부적으로 C로 구현되어 있어 훨씬 더 좋은 속도를 기대할 수 있다."
   ]
  },
  {
   "cell_type": "code",
   "execution_count": 39,
   "metadata": {},
   "outputs": [
    {
     "data": {
      "text/plain": [
       "True"
      ]
     },
     "execution_count": 39,
     "metadata": {},
     "output_type": "execute_result"
    }
   ],
   "source": [
    "def is_palindrome(self, s:str) -> bool:\n",
    "    s = s.lower()\n",
    "    s = re.sub('[^a-z0-9]', '', s)\n",
    "\n",
    "    return s == s[::-1]\n",
    "\n",
    "is_palindrome(None, s1)"
   ]
  },
  {
   "cell_type": "markdown",
   "metadata": {},
   "source": [
    "* 슬라이싱 기능은 매우 편리하면서 대부분의 문자열 작업은 슬라이싱으로 처리하는 편이 가장 빠르다.\n",
    "    * 아래의 예시를 통해 슬라이싱 결과를 기억하자."
   ]
  },
  {
   "cell_type": "code",
   "execution_count": 40,
   "metadata": {},
   "outputs": [
    {
     "name": "stdout",
     "output_type": "stream",
     "text": [
      "녕하세\n",
      "녕하\n",
      "녕하세요\n",
      "안녕하세요\n",
      "녕하세요\n",
      "요\n",
      "안녕\n",
      "하세요\n",
      "안녕하세요\n",
      "요세하녕안\n",
      "안하요\n"
     ]
    }
   ],
   "source": [
    "s = \"안녕하세요\"\n",
    "print(s[1:4])\n",
    "print(s[1:-2])\n",
    "print(s[1:])\n",
    "print(s[:])\n",
    "print(s[1:100])\n",
    "print(s[-1])\n",
    "print(s[:-3])\n",
    "print(s[-3:])\n",
    "print(s[::1])\n",
    "print(s[::-1])\n",
    "print(s[::2])"
   ]
  },
  {
   "cell_type": "markdown",
   "metadata": {},
   "source": [
    "## 2. 문자열 뒤집기\n",
    "* 문자열을 뒤집는 함수를 작성하라. 입력값은 무자 배열이며, 리턴 없이 리스트 내부를 직접 조작하라.\n",
    "    * 입력 : [\"h\",\"e\",\"l\",\"l\",\"o\"]\n",
    "    * 출력 : [\"o\",\"l\",\"l\",\"e\",\"h\"]"
   ]
  },
  {
   "cell_type": "code",
   "execution_count": 7,
   "metadata": {},
   "outputs": [],
   "source": [
    "# my answer\n",
    "def reveres_string(s:list) -> None:\n",
    "    s.reverse()"
   ]
  },
  {
   "cell_type": "code",
   "execution_count": 9,
   "metadata": {},
   "outputs": [
    {
     "data": {
      "text/plain": [
       "['o', 'l', 'l', 'e', 'h']"
      ]
     },
     "execution_count": 9,
     "metadata": {},
     "output_type": "execute_result"
    }
   ],
   "source": [
    "l1 = [\"h\",\"e\",\"l\",\"l\",\"o\"]\n",
    "reveres_string(l1)\n",
    "l1"
   ]
  },
  {
   "cell_type": "markdown",
   "metadata": {},
   "source": [
    "### 풀이 1\n",
    "* 투 포인터를 활용한 전통적인 방식\n",
    "    * 2개의 포인터를 이용해 범위를 조정해가면 풀이하는 방식\n",
    "    * 이 문제에서는 양 끝쪽에서 좁혀나가면서 서로 교체(스왑)하는 형식으로 풀이"
   ]
  },
  {
   "cell_type": "code",
   "execution_count": 20,
   "metadata": {},
   "outputs": [
    {
     "data": {
      "text/plain": [
       "['o', 'l', 'l', 'e', 'h']"
      ]
     },
     "execution_count": 20,
     "metadata": {},
     "output_type": "execute_result"
    }
   ],
   "source": [
    "from typing import List\n",
    "\n",
    "def reveres_string(self, s:List[str]) -> None:\n",
    "    left, right = 0, len(s)-1\n",
    "    while left < right:\n",
    "        s[left], s[right] = s[right], s[left]\n",
    "        left += 1\n",
    "        right -= 1\n",
    "\n",
    "l1 = [\"h\",\"e\",\"l\",\"l\",\"o\"]\n",
    "reveres_string(None,s=l1)\n",
    "l1"
   ]
  },
  {
   "cell_type": "code",
   "execution_count": null,
   "metadata": {},
   "outputs": [],
   "source": [
    "# pythonic\n",
    "def reveres_string(self, s:List[str]) -> None:\n",
    "    s.reverse()"
   ]
  },
  {
   "cell_type": "markdown",
   "metadata": {},
   "source": [
    "## 3. 로그 파일 재정렬"
   ]
  }
 ],
 "metadata": {
  "kernelspec": {
   "display_name": "python_recsys",
   "language": "python",
   "name": "python_recsys"
  },
  "language_info": {
   "codemirror_mode": {
    "name": "ipython",
    "version": 3
   },
   "file_extension": ".py",
   "mimetype": "text/x-python",
   "name": "python",
   "nbconvert_exporter": "python",
   "pygments_lexer": "ipython3",
   "version": "3.11.10"
  }
 },
 "nbformat": 4,
 "nbformat_minor": 2
}
