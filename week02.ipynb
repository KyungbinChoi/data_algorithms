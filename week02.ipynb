{
 "cells": [
  {
   "cell_type": "markdown",
   "metadata": {},
   "source": [
    "## 1.리스트\n",
    "* 파이썬 리스트는 순서대로 저장하는 시퀀스이자 변경 가능한 목록을 말한다.\n",
    "* 입력 순서가 유지되며, 내부적으로 동적 배열로 구현되어 있다.\n",
    "* 파이썬 리스트의 가장 좋은 점은 매우 다양한 기능을 제공한다는 점이다.\n",
    "    * 이 기능 중 O(1) 에 해당하는 기능 .append() , .pop() 이있다.\n",
    "* 반면 요소를 삭제하거나 큐의 연산이기도 한 첫 번째 요소를 추출하는 .pop(0) 는 O(n) 이므로 큐의 연산을 사용할 때는 주의가 필요하다. 이 때는 데크 같은 자료형으로 성능을 높일 수 있다.\n",
    "* 리스트의 경우 탐색 시 값의 존재 유무를 확인하려면 정렬된 경우에는 이진 검색이 효울적이다. 그러나 매번 정렬이 필요하고 대개는 리스트가 정렬된 상태가 이니므로 리스트의 경우에는 모든 엘리먼트를 순차적으로 조회하는 형태로 구현되어 있다. (이 경우 최악은 항상 O(n) 이 소요된다.)"
   ]
  },
  {
   "cell_type": "markdown",
   "metadata": {},
   "source": [
    "## 2. 딕셔너리\n",
    "* 파이썬 딕셔너리는 키/값 구조로 이루어져 있다.\n",
    "* 3.7+ 부터 입력 순서가 유지되며 내부적으로 해시 테이블로 구현되어 있다.\n",
    "* 인덱스를 숫자로만 지정할 수 있는 리스트와 다르게 딕셔너리는 해시할 수만 있다면 숫자뿐만 아니라, 문자 집합까지 불변 객체를 모두 키로 사용할 수 있다. \n",
    "    * 이 과정을 해싱이라고 하며, 해시 테이블을 이용해 자료를 저장한다.\n",
    "* 딕셔러니는 대부분의 연산이 O(1) 에 처리 가능한 매우 우수한 자료형이다.\n",
    "* 파이썬 딕셔너리를 효율적으로 생성하기 위한 추가 모듈이 많이 있다."
   ]
  },
  {
   "cell_type": "markdown",
   "metadata": {},
   "source": [
    "## 딕셔너리 활용과 모듈\n",
    "* 딕셔너리와 관련된 특수한 형태의 컨테이너 자료형인 defaultdict, Counter, OrderedDict 에 대해 살펴보면 아래와 같다.\n",
    "### defaultdict 객체\n",
    "* defaultdict 객체는 존재하지 않는 키를 조회할 경우, 에러 메시지를 출력하는 대신 디폴트 값을 기준으로 해당 키에 대한 딕셔너리 아이템을 생성해준다.\n",
    "* 아래 예시처럼 존재하지 않는 키에 대해 바로 연산이 가능하고 이 int 로 할 경우에 디폴트인 0을 기준으로 자동 생성후에 연산이 되는 것을 볼 수 있다."
   ]
  },
  {
   "cell_type": "code",
   "execution_count": 1,
   "metadata": {},
   "outputs": [],
   "source": [
    "from collections import defaultdict, Counter, OrderedDict"
   ]
  },
  {
   "cell_type": "code",
   "execution_count": 2,
   "metadata": {},
   "outputs": [
    {
     "data": {
      "text/plain": [
       "defaultdict(int, {'A': 5, 'B': 4})"
      ]
     },
     "execution_count": 2,
     "metadata": {},
     "output_type": "execute_result"
    }
   ],
   "source": [
    "a =defaultdict(int)\n",
    "a['A']= 5\n",
    "a['B']= 4\n",
    "a"
   ]
  },
  {
   "cell_type": "code",
   "execution_count": 3,
   "metadata": {},
   "outputs": [
    {
     "data": {
      "text/plain": [
       "defaultdict(int, {'A': 5, 'B': 4, 'C': 1})"
      ]
     },
     "execution_count": 3,
     "metadata": {},
     "output_type": "execute_result"
    }
   ],
   "source": [
    "a['C']+=1\n",
    "a"
   ]
  },
  {
   "cell_type": "markdown",
   "metadata": {},
   "source": [
    "### Counter 객체\n",
    "* Counter 객체는 아이템에 대한 개수를 계산해 딕셔너리로 반환한다."
   ]
  },
  {
   "cell_type": "code",
   "execution_count": 4,
   "metadata": {},
   "outputs": [
    {
     "data": {
      "text/plain": [
       "Counter({1: 4, 2: 4, 3: 2, 4: 2, 5: 1, 6: 1, 7: 1})"
      ]
     },
     "execution_count": 4,
     "metadata": {},
     "output_type": "execute_result"
    }
   ],
   "source": [
    "a = [1,1,1,1,2,2,2,2,3,3,4,4,5,6,7]\n",
    "b = Counter(a)\n",
    "b"
   ]
  },
  {
   "cell_type": "code",
   "execution_count": 5,
   "metadata": {},
   "outputs": [
    {
     "data": {
      "text/plain": [
       "collections.Counter"
      ]
     },
     "execution_count": 5,
     "metadata": {},
     "output_type": "execute_result"
    }
   ],
   "source": [
    "type(b)"
   ]
  },
  {
   "cell_type": "markdown",
   "metadata": {},
   "source": [
    "* most_common() 과같은 매서드로 가장 빈도수가 높은 요소를 추출할 수 있다.\n",
    "    * 그 밖에도 값의 합산을 구하는 .total() , 특정 키를 기준으로 빼기 연산을 하는 .subtract() 매서드가 있다."
   ]
  },
  {
   "cell_type": "code",
   "execution_count": 6,
   "metadata": {},
   "outputs": [
    {
     "data": {
      "text/plain": [
       "[(1, 4)]"
      ]
     },
     "execution_count": 6,
     "metadata": {},
     "output_type": "execute_result"
    }
   ],
   "source": [
    "b.most_common(1)"
   ]
  },
  {
   "cell_type": "markdown",
   "metadata": {},
   "source": [
    "### OrderdDcit 객체\n",
    "* 파이썬 3.6 이하에서는 입력 순서가 유지되는 OrderedDict 라는 별도의 객체를 제공했다.\n",
    "* 그 이후 버전부터는 딕셔너리 내부적으로 인덱스를 이용해 입력순서가 유지되도록 개선되었다."
   ]
  },
  {
   "cell_type": "markdown",
   "metadata": {},
   "source": [
    "----\n",
    "# 문자열 조작\n",
    "## 1. 유효한 팰린드롬\n",
    "* 주어진 문자열이 팰린드롬인지 확인하라. 대소문자를 구분하지 않으며 영문자와 숫자만을 대상으로 한다.\n",
    "    * 팰린드롬은 앞뒤가 똑같은 단어나 문장으로 뒤집어도 같은 말이 되는 단어 또는 문장을 의미한다."
   ]
  },
  {
   "cell_type": "code",
   "execution_count": 7,
   "metadata": {},
   "outputs": [],
   "source": [
    "# my answer\n",
    "import re\n",
    "def is_palindrome(s):\n",
    "    pat = re.compile('\\w')\n",
    "    s_pat = \"\".join(pat.findall(s))\n",
    "    if s_pat.lower() == s_pat.lower()[::-1]:\n",
    "        return True\n",
    "    else:\n",
    "        return False"
   ]
  },
  {
   "cell_type": "code",
   "execution_count": 8,
   "metadata": {},
   "outputs": [],
   "source": [
    "s1 = \"A man, a plan, a canal: Panama\"\n",
    "s2 = \"race a car\""
   ]
  },
  {
   "cell_type": "code",
   "execution_count": 9,
   "metadata": {},
   "outputs": [
    {
     "name": "stdout",
     "output_type": "stream",
     "text": [
      "True\n",
      "False\n"
     ]
    }
   ],
   "source": [
    "print(is_palindrome(s1))\n",
    "print(is_palindrome(s2))"
   ]
  },
  {
   "cell_type": "markdown",
   "metadata": {},
   "source": [
    "### 풀이-1\n",
    "* 대소문자 여부를 구분하지 않고 영문자, 숫자만을 대상으로 한다는 제약 조건의 처리는 아래와 같이 구현한다.\n",
    "* 그 이후에 pop 함수를 통해 인덱스를 지정해 맨앞의 값과 맨 뒤에 값을 가져오는 반복으로 팰린드롬을 판별한다.\n"
   ]
  },
  {
   "cell_type": "code",
   "execution_count": 10,
   "metadata": {},
   "outputs": [
    {
     "data": {
      "text/plain": [
       "['a',\n",
       " 'm',\n",
       " 'a',\n",
       " 'n',\n",
       " 'a',\n",
       " 'p',\n",
       " 'l',\n",
       " 'a',\n",
       " 'n',\n",
       " 'a',\n",
       " 'c',\n",
       " 'a',\n",
       " 'n',\n",
       " 'a',\n",
       " 'l',\n",
       " 'p',\n",
       " 'a',\n",
       " 'n',\n",
       " 'a',\n",
       " 'm',\n",
       " 'a']"
      ]
     },
     "execution_count": 10,
     "metadata": {},
     "output_type": "execute_result"
    }
   ],
   "source": [
    "strs = []\n",
    "for char in s1:\n",
    "    if char.isalnum():\n",
    "        strs.append(char.lower())\n",
    "strs"
   ]
  },
  {
   "cell_type": "code",
   "execution_count": 11,
   "metadata": {},
   "outputs": [],
   "source": [
    "while len(strs) > 1:\n",
    "    if strs.pop(0) != strs.pop():\n",
    "        print(False)\n",
    "        # return False"
   ]
  },
  {
   "cell_type": "markdown",
   "metadata": {},
   "source": [
    "* 전체 코드를 정리하면 아래와 같다."
   ]
  },
  {
   "cell_type": "code",
   "execution_count": 12,
   "metadata": {},
   "outputs": [],
   "source": [
    "def is_palindrome(self, s:str) -> bool:    \n",
    "    strs = []\n",
    "    for char in s:\n",
    "        if char.isalnum():\n",
    "            strs.append(char.lower())\n",
    "    while len(strs) > 1:\n",
    "        if strs.pop(0) != strs.pop():\n",
    "            print(False)\n",
    "    return True"
   ]
  },
  {
   "cell_type": "code",
   "execution_count": 13,
   "metadata": {},
   "outputs": [
    {
     "data": {
      "text/plain": [
       "True"
      ]
     },
     "execution_count": 13,
     "metadata": {},
     "output_type": "execute_result"
    }
   ],
   "source": [
    "is_palindrome(None, s= s1)"
   ]
  },
  {
   "cell_type": "markdown",
   "metadata": {},
   "source": [
    "* 만약 데크Deque 를 명시적으로 선언하면 좀 더 속도를 높일 수 있다.\n",
    "* strs: Deque = collections.deque() 와 같이 자료형을 데크로 선언하는 것만으로 기존 방식 대비 5배 가까이 더 속도를 높일 수 있다.\n",
    "    * 리스트 구현은 $O(n^2)$, 데크 구현은 O(n) dmfh tjdsmd ckdlrk zmek."
   ]
  },
  {
   "cell_type": "code",
   "execution_count": 14,
   "metadata": {},
   "outputs": [],
   "source": [
    "import collections\n",
    "\n",
    "def is_palindrome(self, s:str) -> bool:\n",
    "    strs: Deque = collections.deque()\n",
    "\n",
    "    for char in s:\n",
    "        if char.isalnum():\n",
    "            strs.append(char.lower())\n",
    "\n",
    "    while len(strs) > 1:\n",
    "        if strs.popleft() != strs.pop():\n",
    "            return False\n",
    "    return True"
   ]
  },
  {
   "cell_type": "code",
   "execution_count": 15,
   "metadata": {},
   "outputs": [
    {
     "data": {
      "text/plain": [
       "True"
      ]
     },
     "execution_count": 15,
     "metadata": {},
     "output_type": "execute_result"
    }
   ],
   "source": [
    "is_palindrome(None, s1)"
   ]
  },
  {
   "cell_type": "markdown",
   "metadata": {},
   "source": [
    "* 슬라이싱을 사용해 문제 풀이를 할 수 있다.\n",
    "    * 문자열 전체를 정규식으로 처리해 문자 및 숫자만 포함시킬 수 있다.\n",
    "    * 리스트ㅡ이 경우 [::-1] 을 이용해 뒤집을 수 ㅣㅇㅆ다. 이는 내부적으로 C로 구현되어 있어 훨씬 더 좋은 속도를 기대할 수 있다."
   ]
  },
  {
   "cell_type": "code",
   "execution_count": 16,
   "metadata": {},
   "outputs": [
    {
     "data": {
      "text/plain": [
       "True"
      ]
     },
     "execution_count": 16,
     "metadata": {},
     "output_type": "execute_result"
    }
   ],
   "source": [
    "def is_palindrome(self, s:str) -> bool:\n",
    "    s = s.lower()\n",
    "    s = re.sub('[^a-z0-9]', '', s)\n",
    "\n",
    "    return s == s[::-1]\n",
    "\n",
    "is_palindrome(None, s1)"
   ]
  },
  {
   "cell_type": "markdown",
   "metadata": {},
   "source": [
    "* 슬라이싱 기능은 매우 편리하면서 대부분의 문자열 작업은 슬라이싱으로 처리하는 편이 가장 빠르다.\n",
    "    * 아래의 예시를 통해 슬라이싱 결과를 기억하자."
   ]
  },
  {
   "cell_type": "code",
   "execution_count": 17,
   "metadata": {},
   "outputs": [
    {
     "name": "stdout",
     "output_type": "stream",
     "text": [
      "녕하세\n",
      "녕하\n",
      "녕하세요\n",
      "안녕하세요\n",
      "녕하세요\n",
      "요\n",
      "안녕\n",
      "하세요\n",
      "안녕하세요\n",
      "요세하녕안\n",
      "안하요\n"
     ]
    }
   ],
   "source": [
    "s = \"안녕하세요\"\n",
    "print(s[1:4])\n",
    "print(s[1:-2])\n",
    "print(s[1:])\n",
    "print(s[:])\n",
    "print(s[1:100])\n",
    "print(s[-1])\n",
    "print(s[:-3])\n",
    "print(s[-3:])\n",
    "print(s[::1])\n",
    "print(s[::-1])\n",
    "print(s[::2])"
   ]
  },
  {
   "cell_type": "markdown",
   "metadata": {},
   "source": [
    "## 2. 문자열 뒤집기\n",
    "* 문자열을 뒤집는 함수를 작성하라. 입력값은 무자 배열이며, 리턴 없이 리스트 내부를 직접 조작하라.\n",
    "    * 입력 : [\"h\",\"e\",\"l\",\"l\",\"o\"]\n",
    "    * 출력 : [\"o\",\"l\",\"l\",\"e\",\"h\"]"
   ]
  },
  {
   "cell_type": "code",
   "execution_count": 18,
   "metadata": {},
   "outputs": [],
   "source": [
    "# my answer\n",
    "def reveres_string(s:list) -> None:\n",
    "    s.reverse()"
   ]
  },
  {
   "cell_type": "code",
   "execution_count": 19,
   "metadata": {},
   "outputs": [
    {
     "data": {
      "text/plain": [
       "['o', 'l', 'l', 'e', 'h']"
      ]
     },
     "execution_count": 19,
     "metadata": {},
     "output_type": "execute_result"
    }
   ],
   "source": [
    "l1 = [\"h\",\"e\",\"l\",\"l\",\"o\"]\n",
    "reveres_string(l1)\n",
    "l1"
   ]
  },
  {
   "cell_type": "markdown",
   "metadata": {},
   "source": [
    "### 풀이 1\n",
    "* 투 포인터를 활용한 전통적인 방식\n",
    "    * 2개의 포인터를 이용해 범위를 조정해가면 풀이하는 방식\n",
    "    * 이 문제에서는 양 끝쪽에서 좁혀나가면서 서로 교체(스왑)하는 형식으로 풀이"
   ]
  },
  {
   "cell_type": "code",
   "execution_count": 20,
   "metadata": {},
   "outputs": [
    {
     "data": {
      "text/plain": [
       "['o', 'l', 'l', 'e', 'h']"
      ]
     },
     "execution_count": 20,
     "metadata": {},
     "output_type": "execute_result"
    }
   ],
   "source": [
    "from typing import List\n",
    "\n",
    "def reveres_string(self, s:List[str]) -> None:\n",
    "    left, right = 0, len(s)-1\n",
    "    while left < right:\n",
    "        s[left], s[right] = s[right], s[left]\n",
    "        left += 1\n",
    "        right -= 1\n",
    "\n",
    "l1 = [\"h\",\"e\",\"l\",\"l\",\"o\"]\n",
    "reveres_string(None,s=l1)\n",
    "l1"
   ]
  },
  {
   "cell_type": "code",
   "execution_count": 21,
   "metadata": {},
   "outputs": [],
   "source": [
    "# pythonic\n",
    "def reveres_string(self, s:List[str]) -> None:\n",
    "    s.reverse()"
   ]
  },
  {
   "cell_type": "markdown",
   "metadata": {},
   "source": [
    "## 3. 로그 파일 재정렬\n",
    "* 로그를 재정렬하라. 기준은 다음과 같다.\n",
    "    * 1. 로그의 가장 앞 부분은 식별자다.\n",
    "    * 2. 문자로 구성된 로그가 숫자 로그보다 앞에 온다.\n",
    "    * 3. 식별자는 순서에 영향을 끼치지 않지만, 문자가 동일한 경우 식별사 준으로 한다.\n",
    "    * 4. 숫자로그는 입력 순서대로 한다.\n",
    "* 입력 예시\n",
    "    - logs = [\"dig1 8 1 5 1\", \"let1 art can\", \"dig2 3 6\", \"let2 own kit dig\", \"let3 art zero\"]\n",
    "* 출력 예시\n",
    "    - logs = [\"let1 art can\", \"let3 art zero\", \"let2 own kit dig\", \"dig1 8 1 5 1\", \"dig2 3 6\"]\n"
   ]
  },
  {
   "cell_type": "code",
   "execution_count": 22,
   "metadata": {},
   "outputs": [],
   "source": [
    "# answer\n",
    "def reorder_logfile(logs:List[str]) -> List[str]:\n",
    "    strings, digits = [], []\n",
    "    \n",
    "    for log in logs:\n",
    "        if log.split()[1].isdigit():\n",
    "            digits.append(log)\n",
    "        else:\n",
    "            strings.append(log)\n",
    "    \n",
    "    strings = sorted(strings, key= lambda x: (x.split()[1:], x.split()[0]))\n",
    "    results = strings + digits\n",
    "    return results"
   ]
  },
  {
   "cell_type": "code",
   "execution_count": 23,
   "metadata": {},
   "outputs": [
    {
     "data": {
      "text/plain": [
       "['let1 art can',\n",
       " 'let3 art zero',\n",
       " 'let2 own kit dig',\n",
       " 'dig1 8 1 5 1',\n",
       " 'dig2 3 6']"
      ]
     },
     "execution_count": 23,
     "metadata": {},
     "output_type": "execute_result"
    }
   ],
   "source": [
    "logs = [\"dig1 8 1 5 1\", \"let1 art can\", \"dig2 3 6\", \"let2 own kit dig\", \"let3 art zero\"]\n",
    "reorder_logfile(logs)"
   ]
  },
  {
   "cell_type": "markdown",
   "metadata": {},
   "source": [
    "* 요구 조건을 얼마나 깔끔하게 처리할 수 있는지를 묻는 문제\n",
    "* 먼저 isdigit() 를 이용해서 숫자 여부인지를 판별해 구분한다.\n",
    "    * 숫자로 변환 가능하면 digits 리스트에 담고 나머지는 strings 에 담는다\n",
    "* 다음 문자로 구분된 strings 에서 lambda 표현식을 활용해서 다시 재정렬하고 digits 리스트와 합쳐서 결과를 반환한다."
   ]
  },
  {
   "cell_type": "markdown",
   "metadata": {},
   "source": [
    "## 4. 가장 흔한 단어\n",
    "* 금지된 단어를 제외한 가장 흔하게 등장하는 단어를 출력하라. 대소문자를 구분하지 않으며 구두점(마침표, 쉼표 등) 또한 무시한다."
   ]
  },
  {
   "cell_type": "code",
   "execution_count": 24,
   "metadata": {},
   "outputs": [],
   "source": [
    "# answer\n",
    "def get_frequent_word(paragraph:str, banned:List[str]) -> str:\n",
    "    from collections import Counter\n",
    "    preprocessed_words = [word for word in re.sub(r'[^\\w]', ' ', paragraph).lower().split() if word not in banned]\n",
    "\n",
    "    word_count = Counter(preprocessed_words)\n",
    "    common_word = word_count.most_common()[0][0]\n",
    "    return common_word"
   ]
  },
  {
   "cell_type": "code",
   "execution_count": 25,
   "metadata": {},
   "outputs": [
    {
     "data": {
      "text/plain": [
       "'ball'"
      ]
     },
     "execution_count": 25,
     "metadata": {},
     "output_type": "execute_result"
    }
   ],
   "source": [
    "paragraph= \"Bob hit a ball, the hit BALL flew far after it was hit\"\n",
    "banned = [\"hit\"]\n",
    "get_frequent_word(paragraph, banned)"
   ]
  },
  {
   "cell_type": "markdown",
   "metadata": {},
   "source": [
    "* 문자열 데이터 전처리가 필요한데 정규식을 아래와 같이 섞어서 구성해 처리할 수 있다.\n",
    "    * [word for word in re.sub(r'[^\\w]', ' ', paragraph).lower().split()]\n",
    "    * 정규식에서 \\w 는 단어 문자를 뜻하며, ^ 은 not을 의미한다. 즉, 단어 문자가 아닌 모든 경우를 공백으로 바꾸는 것이다.\n",
    "* 갯수를 세는 작업은 Counter 객체를 활용하면 쉽게 해결할 수 있다."
   ]
  },
  {
   "cell_type": "markdown",
   "metadata": {},
   "source": [
    "## 5. 그룹 애너그램\n",
    "* 문자열 배열을 받아 애너그램 단위로 그룹핑하라.\n",
    "    * 애너그램은 문자를 재배열하여 다른 뜻을 가진 단어로 바꾸는 것을 말한다.\n",
    "* 예시 입력\n",
    "    * [\"eat\",\"tea\",\"tan\",\"ate\",\"nat\",\"bat\"]\n",
    "* 예시 출력\n",
    "    * [\n",
    "        [\"ate\",\"eat\",\"tea\"],[\"nat\",\"tan\"], [\"bat]\n",
    "    ]"
   ]
  },
  {
   "cell_type": "code",
   "execution_count": 26,
   "metadata": {},
   "outputs": [
    {
     "data": {
      "text/plain": [
       "'wwww'"
      ]
     },
     "execution_count": 26,
     "metadata": {},
     "output_type": "execute_result"
    }
   ],
   "source": [
    "\"\".join(sorted(\"wwww\"))"
   ]
  },
  {
   "cell_type": "code",
   "execution_count": 27,
   "metadata": {},
   "outputs": [],
   "source": [
    "# my answer\n",
    "from collections import defaultdict\n",
    "def anigram_group(words:List[str]) -> List[List[str]]:\n",
    "    words_group = defaultdict(list)\n",
    "    for word in words:\n",
    "        group_key = \"\".join(sorted(word.lower()))\n",
    "        words_group[group_key].append(word)\n",
    "    \n",
    "    results = []\n",
    "    \n",
    "    for group in list(words_group.values()):\n",
    "        results.append(sorted(group))\n",
    "\n",
    "    return results"
   ]
  },
  {
   "cell_type": "code",
   "execution_count": 28,
   "metadata": {},
   "outputs": [
    {
     "data": {
      "text/plain": [
       "[['ate', 'eat', 'tea'], ['nat', 'tan'], ['bat']]"
      ]
     },
     "execution_count": 28,
     "metadata": {},
     "output_type": "execute_result"
    }
   ],
   "source": [
    "words = [\"eat\",\"tea\",\"tan\",\"ate\",\"nat\",\"bat\"]\n",
    "anigram_group(words)\n"
   ]
  },
  {
   "cell_type": "code",
   "execution_count": 29,
   "metadata": {},
   "outputs": [
    {
     "data": {
      "text/plain": [
       "dict_values([['eat', 'tea', 'ate'], ['tan', 'nat'], ['bat']])"
      ]
     },
     "execution_count": 29,
     "metadata": {},
     "output_type": "execute_result"
    }
   ],
   "source": [
    "#answer \n",
    "def gruop_anagrams(strs: List[str])  -> List[List[str]]:\n",
    "    anagrams= collections.defaultdict(list)\n",
    "\n",
    "    for word in strs:\n",
    "        anagrams[''.join(sorted(word))].append(word)\n",
    "    return anagrams.values()\n",
    "\n",
    "gruop_anagrams(words)"
   ]
  },
  {
   "cell_type": "markdown",
   "metadata": {},
   "source": [
    "* 여러 가지 정렬 방법\n",
    "    * 파이썬은 정렬 함수를 기본으로 제공하는데 아래의 간단한 기능들을 숙지하는 것이 좋다."
   ]
  },
  {
   "cell_type": "code",
   "execution_count": 30,
   "metadata": {},
   "outputs": [
    {
     "name": "stdout",
     "output_type": "stream",
     "text": [
      "[1, 2, 5, 7, 9]\n",
      "['a', 'b', 'd', 'e', 'f', 's', 'w', 'z']\n",
      "abdefswz\n"
     ]
    }
   ],
   "source": [
    "a = [2,5,1,9,7]\n",
    "print(sorted(a))\n",
    "\n",
    "b= 'zbasfwed'\n",
    "print(sorted(b))\n",
    "print(\"\".join(sorted(b)))"
   ]
  },
  {
   "cell_type": "code",
   "execution_count": 31,
   "metadata": {},
   "outputs": [
    {
     "data": {
      "text/plain": [
       "['d', 'ccc', 'bbb', 'aaaaa']"
      ]
     },
     "execution_count": 31,
     "metadata": {},
     "output_type": "execute_result"
    }
   ],
   "source": [
    "c = ['ccc','aaaaa','d','bbb']\n",
    "sorted(c, key=len)"
   ]
  },
  {
   "cell_type": "code",
   "execution_count": 32,
   "metadata": {},
   "outputs": [
    {
     "name": "stdout",
     "output_type": "stream",
     "text": [
      "['abc', 'abs', 'cde', 'cffw']\n",
      "['abc', 'abs', 'cde', 'cffw']\n"
     ]
    }
   ],
   "source": [
    "# 첫번째 문자와 마지막 문자 순으로 정렬\n",
    "a = ['cde','cffw','abc','abs']\n",
    "def fn(s):\n",
    "    return s[0],s[-1]\n",
    "\n",
    "print(sorted(a, key=fn))\n",
    "print(sorted(a, key=lambda x: (x[0],x[-1])))"
   ]
  },
  {
   "cell_type": "markdown",
   "metadata": {},
   "source": [
    "## 6. 가장 긴 팰린드롬 부분 문자열\n",
    "* 가장 긴 팰린드롬 부분 문자열을 출력하라\n",
    "* 예시 \n",
    "    * \"cbbd\" >> \"bb\" , \"babad\" >> \"bab\" | \"aba\"\n",
    "\n",
    "* 다이나믹 프로그래밍의 전형적인 문제이나 이 문제의 경우 다이나믹 프로그래밍을 이용한 풀이는 직관적으로 이해가 어렵고, 성능이 좋지 못하다.\n",
    "* 여기서 해결책으로 투 포인터가 중앙을 중심으로 확장하는 형태로 풀이해본다.\n",
    "    * 2칸, 3칸으로 구성된 투 포인터가 슬라이딩 윈도우처럼 계속 앞으로 전진해나간다. 이 때 윈도우에 들어온 문자열이 팰린드롬인지를 판별해 맞는 경우에 그 자리에서 멈추고, 투 포인터가 점점 확장해가는 방ㅅ기이다.\n",
    "    * 팰린드롬은 짝수일때도 있고, 홀수일 때도 있다. 두 포인터가 계속 우측이로 이동하다가 팰린드롬이 잡히면 그 자리에서 양쪽으로 확장해가며 다시 팰린드롬을 판별한다.\n",
    "* 코드 풀이 과정은 아래와 같다.\n",
    "    1. 먼저 예외 처리를 진행한다. 문자가 1개이거나 전체 문자열 자체가 팰린드롬인 경우 바로 반환한다.\n",
    "    2. 슬라이싱과 인덱스를 직접 조회하는 것은 숫자 표기하는 방식이 다르므로 포인터를 정의할 때 주의가 필요하다."
   ]
  },
  {
   "cell_type": "code",
   "execution_count": 39,
   "metadata": {},
   "outputs": [],
   "source": [
    "def longest_palindrome(s:str) -> str:\n",
    "    # 팰린드롬 판별 및 투 포인터 확장\n",
    "    def expand(left:int, right:int) -> str:\n",
    "        while left >=0 and right <=len(s) and s[left] == s[right-1]:\n",
    "            left -=1\n",
    "            right +=1\n",
    "        return s[left +1:right-1]\n",
    "\n",
    "    if len(s) < 2 or s == s[::-1]:\n",
    "        return s\n",
    "    \n",
    "    result = ''\n",
    "     \n",
    "    # 슬라이딩 윈도우 우측으로 이동\n",
    "    for i in range(len(s)-1):\n",
    "        result = max(result, expand(i,i+1), expand(i, i+2), key=len)\n",
    "    return result"
   ]
  },
  {
   "cell_type": "code",
   "execution_count": 40,
   "metadata": {},
   "outputs": [
    {
     "data": {
      "text/plain": [
       "'bbddbddbb'"
      ]
     },
     "execution_count": 40,
     "metadata": {},
     "output_type": "execute_result"
    }
   ],
   "source": [
    "s = \"cbbbddbddbb\"\n",
    "longest_palindrome(s)"
   ]
  },
  {
   "cell_type": "code",
   "execution_count": 41,
   "metadata": {},
   "outputs": [
    {
     "data": {
      "text/plain": [
       "'aabbbaa'"
      ]
     },
     "execution_count": 41,
     "metadata": {},
     "output_type": "execute_result"
    }
   ],
   "source": [
    "s = \"eaabbbaaaf\"\n",
    "longest_palindrome(s)"
   ]
  },
  {
   "cell_type": "code",
   "execution_count": null,
   "metadata": {},
   "outputs": [],
   "source": []
  }
 ],
 "metadata": {
  "kernelspec": {
   "display_name": "bq_python",
   "language": "python",
   "name": "bq_python"
  },
  "language_info": {
   "codemirror_mode": {
    "name": "ipython",
    "version": 3
   },
   "file_extension": ".py",
   "mimetype": "text/x-python",
   "name": "python",
   "nbconvert_exporter": "python",
   "pygments_lexer": "ipython3",
   "version": "3.11.13"
  }
 },
 "nbformat": 4,
 "nbformat_minor": 2
}
