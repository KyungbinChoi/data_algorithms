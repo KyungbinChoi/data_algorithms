{
 "cells": [
  {
   "cell_type": "markdown",
   "metadata": {},
   "source": [
    "# 1.리스트\n",
    "* 파이썬 리스트는 순서대로 저장하는 시퀀스이자 변경 가능한 목록을 말한다.\n",
    "* 입력 순서가 유지되며, 내부적으로 동적 배열로 구현되어 있다.\n",
    "* 파이썬 리스트의 가장 좋은 점은 매우 다양한 기능을 제공한다는 점이다.\n",
    "    * 이 기능 중 O(1) 에 해당하는 기능 .append() , .pop() 이있다.\n",
    "* 반면 요소를 삭제하거나 큐의 연산이기도 한 첫 번째 요소를 추출하는 .pop(0) 는 O(n) 이므로 큐의 연산을 사용할 때는 주의가 필요하다. 이 때는 데크 같은 자료형으로 성능을 높일 수 있다.\n",
    "* 리스트의 경우 탐색 시 값의 존재 유무를 확인하려면 정렬된 경우에는 이진 검색이 효울적이다. 그러나 매번 정렬이 필요하고 대개는 리스트가 정렬된 상태가 이니므로 리스트의 경우에는 모든 엘리먼트를 순차적으로 조회하는 형태로 구현되어 있다. (이 경우 최악은 항상 O(n) 이 소요된다.)"
   ]
  },
  {
   "cell_type": "markdown",
   "metadata": {},
   "source": [
    "# 2. 딕셔너리\n",
    "* 파이썬 딕셔너리는 키/값 구조로 이루어져 있다.\n",
    "* 3.7+ 부터 입력 순서가 유지되며 내부적으로 해시 테이블로 구현되어 있다.\n",
    "* 인덱스를 숫자로만 지정할 수 있는 리스트와 다르게 딕셔너리는 해시할 수만 있다면 숫자뿐만 아니라, 문자 집합까지 불변 객체를 모두 키로 사용할 수 있다. \n",
    "    * 이 과정을 해싱이라고 하며, 해시 테이블을 이용해 자료를 저장한다.\n",
    "* 딕셔러니는 대부분의 연산이 O(1) 에 처리 가능한 매우 우수한 자료형이다.\n",
    "* 파이썬 딕셔너리를 효율적으로 생성하기 위한 추가 모듈이 많이 있다."
   ]
  },
  {
   "cell_type": "markdown",
   "metadata": {},
   "source": [
    "## 딕셔너리 활용과 모듈\n",
    "* 딕셔너리와 관련된 특수한 형태의 컨테이너 자료형인 defaultdict, Counter, OrderedDict 에 대해 살펴보면 아래와 같다.\n",
    "### defaultdict 객체\n",
    "* defaultdict 객체는 존재하지 않는 키를 조회할 경우, 에러 메시지를 출력하는 대신 디폴트 값을 기준으로 해당 키에 대한 딕셔너리 아이템을 생성해준다.\n",
    "* 아래 예시처럼 존재하지 않는 키에 대해 바로 연산이 가능하고 이 int 로 할 경우에 디폴트인 0을 기준으로 자동 생성후에 연산이 되는 것을 볼 수 있다."
   ]
  },
  {
   "cell_type": "code",
   "execution_count": 1,
   "metadata": {},
   "outputs": [],
   "source": [
    "from collections import defaultdict, Counter, OrderedDict"
   ]
  },
  {
   "cell_type": "code",
   "execution_count": 2,
   "metadata": {},
   "outputs": [
    {
     "data": {
      "text/plain": [
       "defaultdict(int, {'A': 5, 'B': 4})"
      ]
     },
     "execution_count": 2,
     "metadata": {},
     "output_type": "execute_result"
    }
   ],
   "source": [
    "a =defaultdict(int)\n",
    "a['A']= 5\n",
    "a['B']= 4\n",
    "a"
   ]
  },
  {
   "cell_type": "code",
   "execution_count": 3,
   "metadata": {},
   "outputs": [
    {
     "data": {
      "text/plain": [
       "defaultdict(int, {'A': 5, 'B': 4, 'C': 1})"
      ]
     },
     "execution_count": 3,
     "metadata": {},
     "output_type": "execute_result"
    }
   ],
   "source": [
    "a['C']+=1\n",
    "a"
   ]
  },
  {
   "cell_type": "markdown",
   "metadata": {},
   "source": [
    "### Counter 객체\n",
    "* Counter 객체는 아이템에 대한 개수를 계산해 딕셔너리로 반환한다."
   ]
  },
  {
   "cell_type": "code",
   "execution_count": 4,
   "metadata": {},
   "outputs": [
    {
     "data": {
      "text/plain": [
       "Counter({1: 4, 2: 4, 3: 2, 4: 2, 5: 1, 6: 1, 7: 1})"
      ]
     },
     "execution_count": 4,
     "metadata": {},
     "output_type": "execute_result"
    }
   ],
   "source": [
    "a = [1,1,1,1,2,2,2,2,3,3,4,4,5,6,7]\n",
    "b = Counter(a)\n",
    "b"
   ]
  },
  {
   "cell_type": "code",
   "execution_count": 5,
   "metadata": {},
   "outputs": [
    {
     "data": {
      "text/plain": [
       "collections.Counter"
      ]
     },
     "execution_count": 5,
     "metadata": {},
     "output_type": "execute_result"
    }
   ],
   "source": [
    "type(b)"
   ]
  },
  {
   "cell_type": "markdown",
   "metadata": {},
   "source": [
    "* most_common() 과같은 매서드로 가장 빈도수가 높은 요소를 추출할 수 있다.\n",
    "    * 그 밖에도 값의 합산을 구하는 .total() , 특정 키를 기준으로 빼기 연산을 하는 .subtract() 매서드가 있다."
   ]
  },
  {
   "cell_type": "code",
   "execution_count": 8,
   "metadata": {},
   "outputs": [
    {
     "data": {
      "text/plain": [
       "[(1, 4)]"
      ]
     },
     "execution_count": 8,
     "metadata": {},
     "output_type": "execute_result"
    }
   ],
   "source": [
    "b.most_common(1)"
   ]
  },
  {
   "cell_type": "markdown",
   "metadata": {},
   "source": [
    "### OrderdDcit 객체\n",
    "* 파이썬 3.6 이하에서는 입력 순서가 유지되는 OrderedDict 라는 별도의 객체를 제공했다.\n",
    "* 그 이후 버전부터는 딕셔너리 내부적으로 인덱스를 이용해 입력순서가 유지되도록 개선되었따."
   ]
  },
  {
   "cell_type": "markdown",
   "metadata": {},
   "source": []
  }
 ],
 "metadata": {
  "kernelspec": {
   "display_name": "bq_python",
   "language": "python",
   "name": "bq_python"
  },
  "language_info": {
   "codemirror_mode": {
    "name": "ipython",
    "version": 3
   },
   "file_extension": ".py",
   "mimetype": "text/x-python",
   "name": "python",
   "nbconvert_exporter": "python",
   "pygments_lexer": "ipython3",
   "version": "3.11.10"
  }
 },
 "nbformat": 4,
 "nbformat_minor": 2
}
